{
 "cells": [
  {
   "cell_type": "code",
   "execution_count": 1,
   "id": "e490d1a6-bd03-44b3-8ea5-acbb13f72215",
   "metadata": {},
   "outputs": [],
   "source": [
    "import os, json\n",
    "import pandas as pd\n",
    "import numpy as np\n",
    "path_to_json = 'sirven/'\n",
    "json_files = [pos_json for pos_json in os.listdir(path_to_json) if pos_json.endswith('.json')]\n",
    "#print(json_files)"
   ]
  },
  {
   "cell_type": "code",
   "execution_count": 2,
   "id": "cc02102b-c025-4aa1-8726-41c475e7e28d",
   "metadata": {},
   "outputs": [
    {
     "name": "stdout",
     "output_type": "stream",
     "text": [
      "00000001_024.jpg [[ 16.9028103  125.88758782]\n",
      " [ 36.80913349 167.10538642]\n",
      " [104.49063232 192.39812646]\n",
      " [163.50702576 171.08665105]\n",
      " [185.98946136 128.69789227]\n",
      " [ 45.24004684 142.04683841]\n",
      " [ 94.88875878 179.75175644]\n",
      " [121.11826698 177.87822014]\n",
      " [162.80444965 140.64168618]\n",
      " [ 81.77400468 170.85245902]\n",
      " [109.87704918 174.13114754]\n",
      " [134.46721311 170.38407494]\n",
      " [ 98.16744731 154.45901639]\n",
      " [109.87704918 168.97892272]\n",
      " [121.58665105 154.45901639]\n",
      " [106.36416862 116.51990632]]\n"
     ]
    }
   ],
   "source": [
    "puntos_orgT=[]\n",
    "name_puntos_orgT=[]\n",
    "for index, js in enumerate(json_files):\n",
    "    with open(os.path.join(path_to_json, js)) as json_file:\n",
    "        data = json.load(json_file)\n",
    "        #print( data['imagePath'][3:15])\n",
    "        mi_vector = []\n",
    "        \n",
    "        for shape in data['shapes']:\n",
    "            mi_vector.append(shape['points'][0])\n",
    "\n",
    "        labels = []\n",
    "        for label in data['shapes']:\n",
    "            labels.append(label['label'])\n",
    "\n",
    "        puntos_orgU=[None] * 16\n",
    "        j=0\n",
    "        for i in labels:\n",
    "    \n",
    "            puntos_orgU[int(i)-1]=mi_vector[j]\n",
    "           # print(int(i),\":\",puntos_orgU[int(i)-1])\n",
    "            j=j+1\n",
    "        puntos_orgT.append(puntos_orgU)\n",
    "        name_puntos_orgT.append(data['imagePath'])\n",
    "points = np.array(puntos_orgT)\n",
    "names = np.array(name_puntos_orgT)\n",
    "print(names[0],points[0])     "
   ]
  },
  {
   "cell_type": "code",
   "execution_count": 4,
   "id": "347c0048-b638-4f79-8005-decacd9ab7fe",
   "metadata": {},
   "outputs": [
    {
     "name": "stdout",
     "output_type": "stream",
     "text": [
      "00000660_009.jpg\n",
      "[[21.24719101123594, 293.438202247191], [70.12359550561794, 372.6516853932584], [211.69662921348313, 459.7303370786517], [367.314606741573, 385.57303370786514], [429.1123595505618, 319.8426966292135], [71.80898876404493, 325.46067415730334], [172.37078651685394, 427.70786516853934], [249.3370786516854, 433.3258426966292], [376.3033707865169, 332.2022471910112], [142.59550561797752, 391.75280898876406], [215.62921348314606, 419.2808988764045], [280.7977528089888, 404.1123595505618], [190.91011235955054, 371.5280898876404], [218.43820224719101, 398.4943820224719], [250.46067415730337, 379.39325842696627], [227.9887640449438, 285.0112359550562]]\n"
     ]
    }
   ],
   "source": [
    "print(name_puntos_orgT[550])\n",
    "print(puntos_orgT[550]) "
   ]
  }
 ],
 "metadata": {
  "kernelspec": {
   "display_name": "Python 3 (ipykernel)",
   "language": "python",
   "name": "python3"
  },
  "language_info": {
   "codemirror_mode": {
    "name": "ipython",
    "version": 3
   },
   "file_extension": ".py",
   "mimetype": "text/x-python",
   "name": "python",
   "nbconvert_exporter": "python",
   "pygments_lexer": "ipython3",
   "version": "3.10.4"
  }
 },
 "nbformat": 4,
 "nbformat_minor": 5
}
